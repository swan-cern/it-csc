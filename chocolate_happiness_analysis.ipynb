{
 "cells": [
  {
   "cell_type": "markdown",
   "id": "ce2d0aca",
   "metadata": {},
   "source": [
    "# Chocolate Consumption and Happiness Analysis"
   ]
  },
  {
   "cell_type": "code",
   "execution_count": null,
   "id": "58bdda31",
   "metadata": {},
   "outputs": [],
   "source": [
    "# Import libraries\n",
    "import pandas as pd\n",
    "import matplotlib.pyplot as plt\n",
    "\n",
    "# Part 1: Load and visualize chocolate consumption data\n",
    "\n",
    "# Load chocolate consumption data from CSV\n",
    "chocolate_data = # TODO: Load the data for chocolate consumption\n",
    "\n",
    "# Plotting Chocolate Consumption\n",
    "plt.figure(figsize=(10, 6))\n",
    "plt.bar(chocolate_data['Country'], chocolate_data['Chocolate_Consumption_kg_per_year'], color='chocolate')\n",
    "plt.xlabel(\"Country\")\n",
    "plt.ylabel(\"Chocolate Consumption (kg per capita)\")\n",
    "plt.title(\"Chocolate Consumption per Capita by Country\")\n",
    "plt.xticks(rotation=45)\n",
    "plt.show()"
   ]
  },
  {
   "cell_type": "code",
   "execution_count": null,
   "id": "dc339dee",
   "metadata": {},
   "outputs": [],
   "source": [
    "\n",
    "# Part 2: Load and visualize happiness score data\n",
    "\n",
    "# Load happiness score data from CSV\n",
    "happiness_data = # TODO: Load the data for happiness score\n",
    "\n",
    "top_countries = # TODO: Sort and filter the 10 happiest countries in the world\n",
    "\n",
    "# Plotting Happiness Scores\n",
    "plt.figure(figsize=(10, 6))\n",
    "plt.bar(top_countries['Country'], top_countries['Happiness Score'], color='skyblue')\n",
    "plt.xlabel(\"Country\")\n",
    "plt.ylabel(\"Happiness Score\")\n",
    "plt.title(\"Happiness Score by Country\")\n",
    "plt.xticks(rotation=45)\n",
    "plt.show()\n"
   ]
  },
  {
   "cell_type": "code",
   "execution_count": null,
   "id": "cb460769",
   "metadata": {},
   "outputs": [],
   "source": [
    "\n",
    "# Part 3: Plotting the correlation between Chocolate Consumption and Happiness\n",
    "\n",
    "# Merging the datasets on the Country column\n",
    "merged_data = # TODO: Merge both datasets\n",
    "\n",
    "# TODO: Scatter plot to explore the relationship"
   ]
  }
 ],
 "metadata": {
  "language_info": {
   "name": "python"
  }
 },
 "nbformat": 4,
 "nbformat_minor": 5
}
